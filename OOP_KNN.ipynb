{
  "nbformat": 4,
  "nbformat_minor": 0,
  "metadata": {
    "colab": {
      "provenance": [],
      "toc_visible": true,
      "authorship_tag": "ABX9TyM6BaOUU8KCr9DWv3hvX8F7",
      "include_colab_link": true
    },
    "kernelspec": {
      "name": "python3",
      "display_name": "Python 3"
    },
    "language_info": {
      "name": "python"
    }
  },
  "cells": [
    {
      "cell_type": "markdown",
      "metadata": {
        "id": "view-in-github",
        "colab_type": "text"
      },
      "source": [
        "<a href=\"https://colab.research.google.com/github/fawazdhianabil/Object-Oriented-Programming/blob/main/OOP_KNN.ipynb\" target=\"_parent\"><img src=\"https://colab.research.google.com/assets/colab-badge.svg\" alt=\"Open In Colab\"/></a>"
      ]
    },
    {
      "cell_type": "markdown",
      "source": [
        "#**Import Library**"
      ],
      "metadata": {
        "id": "IIkdx0RO9kvU"
      }
    },
    {
      "cell_type": "code",
      "source": [
        "import numpy as np\n",
        "import pandas as pd\n",
        "from scipy.stats import mode\n",
        "from sklearn import datasets"
      ],
      "metadata": {
        "id": "5wCRi1Uar3-6"
      },
      "execution_count": 73,
      "outputs": []
    },
    {
      "cell_type": "markdown",
      "source": [
        "#**Import Dataset IRIS**"
      ],
      "metadata": {
        "id": "hlir3-gq9n-E"
      }
    },
    {
      "cell_type": "code",
      "source": [
        "iris = datasets.load_iris()\n",
        "df = iris.data[:,:4]\n",
        "df"
      ],
      "metadata": {
        "colab": {
          "base_uri": "https://localhost:8080/"
        },
        "id": "QBqmyQpt8azD",
        "outputId": "7185e88e-aedb-4177-deac-5d9ee4a04b81"
      },
      "execution_count": 80,
      "outputs": [
        {
          "output_type": "execute_result",
          "data": {
            "text/plain": [
              "array([[5.1, 3.5, 1.4, 0.2],\n",
              "       [4.9, 3. , 1.4, 0.2],\n",
              "       [4.7, 3.2, 1.3, 0.2],\n",
              "       [4.6, 3.1, 1.5, 0.2],\n",
              "       [5. , 3.6, 1.4, 0.2],\n",
              "       [5.4, 3.9, 1.7, 0.4],\n",
              "       [4.6, 3.4, 1.4, 0.3],\n",
              "       [5. , 3.4, 1.5, 0.2],\n",
              "       [4.4, 2.9, 1.4, 0.2],\n",
              "       [4.9, 3.1, 1.5, 0.1],\n",
              "       [5.4, 3.7, 1.5, 0.2],\n",
              "       [4.8, 3.4, 1.6, 0.2],\n",
              "       [4.8, 3. , 1.4, 0.1],\n",
              "       [4.3, 3. , 1.1, 0.1],\n",
              "       [5.8, 4. , 1.2, 0.2],\n",
              "       [5.7, 4.4, 1.5, 0.4],\n",
              "       [5.4, 3.9, 1.3, 0.4],\n",
              "       [5.1, 3.5, 1.4, 0.3],\n",
              "       [5.7, 3.8, 1.7, 0.3],\n",
              "       [5.1, 3.8, 1.5, 0.3],\n",
              "       [5.4, 3.4, 1.7, 0.2],\n",
              "       [5.1, 3.7, 1.5, 0.4],\n",
              "       [4.6, 3.6, 1. , 0.2],\n",
              "       [5.1, 3.3, 1.7, 0.5],\n",
              "       [4.8, 3.4, 1.9, 0.2],\n",
              "       [5. , 3. , 1.6, 0.2],\n",
              "       [5. , 3.4, 1.6, 0.4],\n",
              "       [5.2, 3.5, 1.5, 0.2],\n",
              "       [5.2, 3.4, 1.4, 0.2],\n",
              "       [4.7, 3.2, 1.6, 0.2],\n",
              "       [4.8, 3.1, 1.6, 0.2],\n",
              "       [5.4, 3.4, 1.5, 0.4],\n",
              "       [5.2, 4.1, 1.5, 0.1],\n",
              "       [5.5, 4.2, 1.4, 0.2],\n",
              "       [4.9, 3.1, 1.5, 0.2],\n",
              "       [5. , 3.2, 1.2, 0.2],\n",
              "       [5.5, 3.5, 1.3, 0.2],\n",
              "       [4.9, 3.6, 1.4, 0.1],\n",
              "       [4.4, 3. , 1.3, 0.2],\n",
              "       [5.1, 3.4, 1.5, 0.2],\n",
              "       [5. , 3.5, 1.3, 0.3],\n",
              "       [4.5, 2.3, 1.3, 0.3],\n",
              "       [4.4, 3.2, 1.3, 0.2],\n",
              "       [5. , 3.5, 1.6, 0.6],\n",
              "       [5.1, 3.8, 1.9, 0.4],\n",
              "       [4.8, 3. , 1.4, 0.3],\n",
              "       [5.1, 3.8, 1.6, 0.2],\n",
              "       [4.6, 3.2, 1.4, 0.2],\n",
              "       [5.3, 3.7, 1.5, 0.2],\n",
              "       [5. , 3.3, 1.4, 0.2],\n",
              "       [7. , 3.2, 4.7, 1.4],\n",
              "       [6.4, 3.2, 4.5, 1.5],\n",
              "       [6.9, 3.1, 4.9, 1.5],\n",
              "       [5.5, 2.3, 4. , 1.3],\n",
              "       [6.5, 2.8, 4.6, 1.5],\n",
              "       [5.7, 2.8, 4.5, 1.3],\n",
              "       [6.3, 3.3, 4.7, 1.6],\n",
              "       [4.9, 2.4, 3.3, 1. ],\n",
              "       [6.6, 2.9, 4.6, 1.3],\n",
              "       [5.2, 2.7, 3.9, 1.4],\n",
              "       [5. , 2. , 3.5, 1. ],\n",
              "       [5.9, 3. , 4.2, 1.5],\n",
              "       [6. , 2.2, 4. , 1. ],\n",
              "       [6.1, 2.9, 4.7, 1.4],\n",
              "       [5.6, 2.9, 3.6, 1.3],\n",
              "       [6.7, 3.1, 4.4, 1.4],\n",
              "       [5.6, 3. , 4.5, 1.5],\n",
              "       [5.8, 2.7, 4.1, 1. ],\n",
              "       [6.2, 2.2, 4.5, 1.5],\n",
              "       [5.6, 2.5, 3.9, 1.1],\n",
              "       [5.9, 3.2, 4.8, 1.8],\n",
              "       [6.1, 2.8, 4. , 1.3],\n",
              "       [6.3, 2.5, 4.9, 1.5],\n",
              "       [6.1, 2.8, 4.7, 1.2],\n",
              "       [6.4, 2.9, 4.3, 1.3],\n",
              "       [6.6, 3. , 4.4, 1.4],\n",
              "       [6.8, 2.8, 4.8, 1.4],\n",
              "       [6.7, 3. , 5. , 1.7],\n",
              "       [6. , 2.9, 4.5, 1.5],\n",
              "       [5.7, 2.6, 3.5, 1. ],\n",
              "       [5.5, 2.4, 3.8, 1.1],\n",
              "       [5.5, 2.4, 3.7, 1. ],\n",
              "       [5.8, 2.7, 3.9, 1.2],\n",
              "       [6. , 2.7, 5.1, 1.6],\n",
              "       [5.4, 3. , 4.5, 1.5],\n",
              "       [6. , 3.4, 4.5, 1.6],\n",
              "       [6.7, 3.1, 4.7, 1.5],\n",
              "       [6.3, 2.3, 4.4, 1.3],\n",
              "       [5.6, 3. , 4.1, 1.3],\n",
              "       [5.5, 2.5, 4. , 1.3],\n",
              "       [5.5, 2.6, 4.4, 1.2],\n",
              "       [6.1, 3. , 4.6, 1.4],\n",
              "       [5.8, 2.6, 4. , 1.2],\n",
              "       [5. , 2.3, 3.3, 1. ],\n",
              "       [5.6, 2.7, 4.2, 1.3],\n",
              "       [5.7, 3. , 4.2, 1.2],\n",
              "       [5.7, 2.9, 4.2, 1.3],\n",
              "       [6.2, 2.9, 4.3, 1.3],\n",
              "       [5.1, 2.5, 3. , 1.1],\n",
              "       [5.7, 2.8, 4.1, 1.3],\n",
              "       [6.3, 3.3, 6. , 2.5],\n",
              "       [5.8, 2.7, 5.1, 1.9],\n",
              "       [7.1, 3. , 5.9, 2.1],\n",
              "       [6.3, 2.9, 5.6, 1.8],\n",
              "       [6.5, 3. , 5.8, 2.2],\n",
              "       [7.6, 3. , 6.6, 2.1],\n",
              "       [4.9, 2.5, 4.5, 1.7],\n",
              "       [7.3, 2.9, 6.3, 1.8],\n",
              "       [6.7, 2.5, 5.8, 1.8],\n",
              "       [7.2, 3.6, 6.1, 2.5],\n",
              "       [6.5, 3.2, 5.1, 2. ],\n",
              "       [6.4, 2.7, 5.3, 1.9],\n",
              "       [6.8, 3. , 5.5, 2.1],\n",
              "       [5.7, 2.5, 5. , 2. ],\n",
              "       [5.8, 2.8, 5.1, 2.4],\n",
              "       [6.4, 3.2, 5.3, 2.3],\n",
              "       [6.5, 3. , 5.5, 1.8],\n",
              "       [7.7, 3.8, 6.7, 2.2],\n",
              "       [7.7, 2.6, 6.9, 2.3],\n",
              "       [6. , 2.2, 5. , 1.5],\n",
              "       [6.9, 3.2, 5.7, 2.3],\n",
              "       [5.6, 2.8, 4.9, 2. ],\n",
              "       [7.7, 2.8, 6.7, 2. ],\n",
              "       [6.3, 2.7, 4.9, 1.8],\n",
              "       [6.7, 3.3, 5.7, 2.1],\n",
              "       [7.2, 3.2, 6. , 1.8],\n",
              "       [6.2, 2.8, 4.8, 1.8],\n",
              "       [6.1, 3. , 4.9, 1.8],\n",
              "       [6.4, 2.8, 5.6, 2.1],\n",
              "       [7.2, 3. , 5.8, 1.6],\n",
              "       [7.4, 2.8, 6.1, 1.9],\n",
              "       [7.9, 3.8, 6.4, 2. ],\n",
              "       [6.4, 2.8, 5.6, 2.2],\n",
              "       [6.3, 2.8, 5.1, 1.5],\n",
              "       [6.1, 2.6, 5.6, 1.4],\n",
              "       [7.7, 3. , 6.1, 2.3],\n",
              "       [6.3, 3.4, 5.6, 2.4],\n",
              "       [6.4, 3.1, 5.5, 1.8],\n",
              "       [6. , 3. , 4.8, 1.8],\n",
              "       [6.9, 3.1, 5.4, 2.1],\n",
              "       [6.7, 3.1, 5.6, 2.4],\n",
              "       [6.9, 3.1, 5.1, 2.3],\n",
              "       [5.8, 2.7, 5.1, 1.9],\n",
              "       [6.8, 3.2, 5.9, 2.3],\n",
              "       [6.7, 3.3, 5.7, 2.5],\n",
              "       [6.7, 3. , 5.2, 2.3],\n",
              "       [6.3, 2.5, 5. , 1.9],\n",
              "       [6.5, 3. , 5.2, 2. ],\n",
              "       [6.2, 3.4, 5.4, 2.3],\n",
              "       [5.9, 3. , 5.1, 1.8]])"
            ]
          },
          "metadata": {},
          "execution_count": 80
        }
      ]
    },
    {
      "cell_type": "markdown",
      "source": [
        "#**Holdout/Train Test Split**"
      ],
      "metadata": {
        "id": "e2mrmx7S9r4o"
      }
    },
    {
      "cell_type": "code",
      "source": [
        "x = df\n",
        "y = iris.target"
      ],
      "metadata": {
        "id": "MXfQO1vo3EVp"
      },
      "execution_count": 83,
      "outputs": []
    },
    {
      "cell_type": "code",
      "source": [
        "from sklearn.model_selection import train_test_split\n",
        "x_train,x_test,y_train,y_test = train_test_split(x,y,test_size=0.2,random_state=0)"
      ],
      "metadata": {
        "id": "Ab_4cTbx25Ud"
      },
      "execution_count": 84,
      "outputs": []
    },
    {
      "cell_type": "markdown",
      "source": [
        "#**K-Nearest Neighbors OOP**"
      ],
      "metadata": {
        "id": "pEZaZQAu90Fl"
      }
    },
    {
      "cell_type": "code",
      "execution_count": 127,
      "metadata": {
        "id": "7VDC5ofsqjo8"
      },
      "outputs": [],
      "source": [
        "class KNN:\n",
        "  'program KNN dengan OOP'\n",
        "\n",
        "  def __init__(self,x_latih,y_latih,k):\n",
        "    self.x_latih = x_latih\n",
        "    self.y_latih = y_latih\n",
        "    self.k = k\n",
        "\n",
        "  def euclidean(self,x1,x2):\n",
        "    return np.sqrt(np.sum((x1-x2)**2))\n",
        "\n",
        "  def hitung_jarak(self):\n",
        "    hasil_euclid = [self.euclidean(x, y) for x,y in zip(self.x_latih,self.y_latih)]\n",
        "    return hasil_euclid\n",
        "\n",
        "  def urut(self):\n",
        "    k_urut= np.argsort(self.hitung_jarak())[:self.k]\n",
        "    return k_urut\n",
        "\n",
        "  def kelas(self):\n",
        "    kelas = [self.y_latih[i] for i in self.urut()]\n",
        "    return kelas\n",
        "\n",
        "  def kelas_final(self):\n",
        "    kelas = mode(self.kelas()) \n",
        "    kelas = kelas.mode[0]\n",
        "    return kelas\n",
        "\n",
        "  def KNN_latih(self,x):\n",
        "    hitung_euclid = [self.euclidean(x, y) for y in self.x_latih]\n",
        "  \n",
        "    k_urut = np.argsort(hitung_euclid)[: self.k]\n",
        "  \n",
        "    kelas = [self.y_latih[i] for i in k_urut]\n",
        "  \n",
        "    kelas = mode(kelas) \n",
        "    kelas = kelas.mode[0]\n",
        "    return kelas\n",
        "\n",
        "\n",
        "  def KNN_predict(self,x_uji):\n",
        "    y_pred= [self.KNN_latih(x) for x in x_uji]\n",
        "    return np.array(y_pred)"
      ]
    },
    {
      "cell_type": "markdown",
      "source": [
        "##**Testing**"
      ],
      "metadata": {
        "id": "LhxBFuv1_qBr"
      }
    },
    {
      "cell_type": "code",
      "source": [
        "knn_oop = KNN(x_latih=x_train,y_latih=y_train,Sk=3)\n",
        "knn_oop"
      ],
      "metadata": {
        "colab": {
          "base_uri": "https://localhost:8080/"
        },
        "id": "90HmvepB3V-s",
        "outputId": "f1af2943-d5f0-4e58-9e4b-673fc9539f32"
      },
      "execution_count": 134,
      "outputs": [
        {
          "output_type": "execute_result",
          "data": {
            "text/plain": [
              "<__main__.KNN at 0x7fa195da36d0>"
            ]
          },
          "metadata": {},
          "execution_count": 134
        }
      ]
    },
    {
      "cell_type": "code",
      "source": [
        "knn_oop.hitung_jarak()"
      ],
      "metadata": {
        "colab": {
          "base_uri": "https://localhost:8080/"
        },
        "id": "VJJn3aim_u2Q",
        "outputId": "3c56c98d-f823-4404-e609-dc6aa75af90f"
      },
      "execution_count": 129,
      "outputs": [
        {
          "output_type": "execute_result",
          "data": {
            "text/plain": [
              "[5.732364259186606,\n",
              " 5.988321968631947,\n",
              " 6.448255578061404,\n",
              " 5.124451190127583,\n",
              " 5.744562646538029,\n",
              " 5.394441583704471,\n",
              " 7.064700984472025,\n",
              " 6.712674578735364,\n",
              " 6.2048368229954285,\n",
              " 5.885575587824865,\n",
              " 6.024948132556827,\n",
              " 5.8360945845659495,\n",
              " 5.909314681077664,\n",
              " 6.33798075099633,\n",
              " 6.718630812896331,\n",
              " 4.8218253804964775,\n",
              " 5.791372894228103,\n",
              " 6.141661013113635,\n",
              " 5.028916384272063,\n",
              " 6.067948582511226,\n",
              " 5.641808220774612,\n",
              " 7.098591409568521,\n",
              " 6.886944169949397,\n",
              " 5.48270006474912,\n",
              " 5.237365750069399,\n",
              " 5.384236250388721,\n",
              " 3.872983346207417,\n",
              " 5.267826876426369,\n",
              " 7.395268757793729,\n",
              " 5.61159513863928,\n",
              " 6.585590330410782,\n",
              " 5.937171043518958,\n",
              " 4.954795656734998,\n",
              " 5.863446085707619,\n",
              " 5.623166367803819,\n",
              " 5.6204981985585585,\n",
              " 6.567343450741707,\n",
              " 6.672330927044911,\n",
              " 6.6385239323211,\n",
              " 5.358171329847526,\n",
              " 5.545268253204709,\n",
              " 6.030754513325841,\n",
              " 6.606814663663572,\n",
              " 7.366138744281159,\n",
              " 7.39459261893446,\n",
              " 5.74978260458602,\n",
              " 5.085272854036448,\n",
              " 4.803123983409131,\n",
              " 5.8966091951222275,\n",
              " 6.401562309311689,\n",
              " 6.830812543175226,\n",
              " 6.002499479383569,\n",
              " 5.831809324729333,\n",
              " 6.498461356351979,\n",
              " 6.26338566591584,\n",
              " 5.977457653551382,\n",
              " 5.741950887982237,\n",
              " 6.5612498809297,\n",
              " 6.099180272790762,\n",
              " 5.594640292279745,\n",
              " 6.1220911460055865,\n",
              " 5.226853738148792,\n",
              " 5.5901699437494745,\n",
              " 5.916924876994806,\n",
              " 4.789572005931219,\n",
              " 6.065476073648301,\n",
              " 5.597320787662612,\n",
              " 6.321392251711643,\n",
              " 6.529931086925803,\n",
              " 6.34901567173999,\n",
              " 5.485435260760991,\n",
              " 6.8862181202747275,\n",
              " 5.570457790882182,\n",
              " 6.307138812488592,\n",
              " 7.316419889536138,\n",
              " 6.345076831686122,\n",
              " 5.992495306631454,\n",
              " 6.371812928829597,\n",
              " 6.137589103222861,\n",
              " 6.861486719363377,\n",
              " 6.059702963017247,\n",
              " 6.32771680782255,\n",
              " 6.614378277661477,\n",
              " 6.567343450741707,\n",
              " 7.546522377890362,\n",
              " 4.739198244429114,\n",
              " 7.576938695805847,\n",
              " 6.972804313904127,\n",
              " 6.790434448545984,\n",
              " 4.98798556533597,\n",
              " 7.149825172687791,\n",
              " 7.43101608126372,\n",
              " 6.541406576570516,\n",
              " 5.910160742314883,\n",
              " 6.827884006044625,\n",
              " 6.155485358604957,\n",
              " 5.793962374748389,\n",
              " 5.918614702783076,\n",
              " 5.863446085707619,\n",
              " 5.558776843874919,\n",
              " 5.637375275782162,\n",
              " 5.781003373117854,\n",
              " 6.767569726275452,\n",
              " 7.278736154031138,\n",
              " 6.04979338490167,\n",
              " 5.431390245600108,\n",
              " 6.034898507845845,\n",
              " 4.954795656734998,\n",
              " 6.313477647065838,\n",
              " 6.929646455628165,\n",
              " 5.904235767650205,\n",
              " 6.627971031922213,\n",
              " 6.436614016701639,\n",
              " 6.650563885867122,\n",
              " 6.4892218331630485,\n",
              " 5.989991652748775,\n",
              " 5.683308895353128,\n",
              " 5.961543424315552,\n",
              " 7.606576102294646,\n",
              " 5.779273310719955]"
            ]
          },
          "metadata": {},
          "execution_count": 129
        }
      ]
    },
    {
      "cell_type": "code",
      "source": [
        "knn_oop.urut()"
      ],
      "metadata": {
        "colab": {
          "base_uri": "https://localhost:8080/"
        },
        "id": "d8F6R_CK_6Bm",
        "outputId": "81059fdd-d813-41fa-89f4-86e7bdb72ea2"
      },
      "execution_count": 130,
      "outputs": [
        {
          "output_type": "execute_result",
          "data": {
            "text/plain": [
              "array([26, 85, 64])"
            ]
          },
          "metadata": {},
          "execution_count": 130
        }
      ]
    },
    {
      "cell_type": "code",
      "source": [
        "knn_oop.kelas()"
      ],
      "metadata": {
        "colab": {
          "base_uri": "https://localhost:8080/"
        },
        "id": "n_y8M1pH5NJ1",
        "outputId": "d1c1ffca-2840-4229-e556-568f9fa46c5a"
      },
      "execution_count": 131,
      "outputs": [
        {
          "output_type": "execute_result",
          "data": {
            "text/plain": [
              "[2, 1, 2]"
            ]
          },
          "metadata": {},
          "execution_count": 131
        }
      ]
    },
    {
      "cell_type": "code",
      "source": [
        "knn_oop.kelas_final()"
      ],
      "metadata": {
        "colab": {
          "base_uri": "https://localhost:8080/"
        },
        "id": "GWYHEAvq7kF6",
        "outputId": "d86fe7ed-fb68-4252-cc4b-8755d9beb293"
      },
      "execution_count": 132,
      "outputs": [
        {
          "output_type": "execute_result",
          "data": {
            "text/plain": [
              "2"
            ]
          },
          "metadata": {},
          "execution_count": 132
        }
      ]
    },
    {
      "cell_type": "code",
      "source": [
        "y_pred_oop = knn_oop.KNN_predict(x_uji=x_test)\n",
        "y_pred_oop"
      ],
      "metadata": {
        "colab": {
          "base_uri": "https://localhost:8080/"
        },
        "id": "xwkCAMdV3nea",
        "outputId": "857137aa-7a70-474a-c10d-9adddfeb519a"
      },
      "execution_count": 133,
      "outputs": [
        {
          "output_type": "execute_result",
          "data": {
            "text/plain": [
              "array([2, 1, 0, 2, 0, 2, 0, 1, 1, 1, 2, 1, 1, 1, 2, 0, 1, 1, 0, 0, 2, 1,\n",
              "       0, 0, 2, 0, 0, 1, 1, 0])"
            ]
          },
          "metadata": {},
          "execution_count": 133
        }
      ]
    },
    {
      "cell_type": "markdown",
      "source": [
        "#**K-Nearest Neighbors Sklearn**"
      ],
      "metadata": {
        "id": "nJXSBkKC9-og"
      }
    },
    {
      "cell_type": "code",
      "source": [
        "from sklearn.neighbors import KNeighborsClassifier\n",
        "knn_sklearn = KNeighborsClassifier(n_neighbors=3).fit(x_train,y_train)\n",
        "y_pred_sklearn = knn_sklearn.predict(x_test)"
      ],
      "metadata": {
        "id": "3Eb26sL69Dci"
      },
      "execution_count": 94,
      "outputs": []
    },
    {
      "cell_type": "code",
      "source": [
        "y_pred_sklearn"
      ],
      "metadata": {
        "colab": {
          "base_uri": "https://localhost:8080/"
        },
        "id": "MiJGcHMN9LZi",
        "outputId": "72588ef4-d7b8-4540-b96a-af7b2c0ef6b6"
      },
      "execution_count": 95,
      "outputs": [
        {
          "output_type": "execute_result",
          "data": {
            "text/plain": [
              "array([2, 1, 0, 2, 0, 2, 0, 1, 1, 1, 2, 1, 1, 1, 2, 0, 1, 1, 0, 0, 2, 1,\n",
              "       0, 0, 2, 0, 0, 1, 1, 0])"
            ]
          },
          "metadata": {},
          "execution_count": 95
        }
      ]
    },
    {
      "cell_type": "markdown",
      "source": [
        "#**KNN-OOP vs KNN-Sklearn**"
      ],
      "metadata": {
        "id": "rjPGbbzH-CrV"
      }
    },
    {
      "cell_type": "code",
      "source": [
        "def akurasi(y_test, y_pred):\n",
        "  total = len(y_test)\n",
        "  salah = sum((y_test - y_pred) != 0)\n",
        "  return (total - salah) / total   "
      ],
      "metadata": {
        "id": "hDEuPa9a-D2E"
      },
      "execution_count": 135,
      "outputs": []
    },
    {
      "cell_type": "code",
      "source": [
        "akurasi(y_test,y_pred_oop)"
      ],
      "metadata": {
        "colab": {
          "base_uri": "https://localhost:8080/"
        },
        "id": "SJFPl1RJ_TVJ",
        "outputId": "9de70d12-a6a3-4256-b127-854045c65d5a"
      },
      "execution_count": 136,
      "outputs": [
        {
          "output_type": "execute_result",
          "data": {
            "text/plain": [
              "0.9666666666666667"
            ]
          },
          "metadata": {},
          "execution_count": 136
        }
      ]
    },
    {
      "cell_type": "code",
      "source": [
        "akurasi(y_test,y_pred_sklearn,)"
      ],
      "metadata": {
        "colab": {
          "base_uri": "https://localhost:8080/"
        },
        "id": "cEer6qGSA3lo",
        "outputId": "69be6ddd-6236-4b41-d5e0-8bfd4088870d"
      },
      "execution_count": 137,
      "outputs": [
        {
          "output_type": "execute_result",
          "data": {
            "text/plain": [
              "0.9666666666666667"
            ]
          },
          "metadata": {},
          "execution_count": 137
        }
      ]
    }
  ]
}